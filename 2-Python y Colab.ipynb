{
 "cells": [
  {
   "cell_type": "markdown",
   "metadata": {},
   "source": [
    "##  Resumen de algunas cosas útiles de python"
   ]
  },
  {
   "cell_type": "markdown",
   "metadata": {},
   "source": [
    "### Identificadores y variables en python\n",
    "\n",
    "Un *identificador* es una secuencia de símbolos que se utilizan como nombres de variables, funciones, clases y otras estructuras de los lenguajes de programación.\n",
    "\n",
    "Los identificadores se escriben como secuencias de caracteres alfanuméricos del alfabeto inglés. En python se utiliza una notación conocida como snake_case (ó palabras en minúsculas separadas por guiones) para evitar utilizar espacios como por ejemplo: conteo_animales, nombre_usuario, velocidad, etc. Se recomienda utilizar únicamente letras del alfabeto inglés a la hora de usar identificadores."
   ]
  },
  {
   "cell_type": "markdown",
   "metadata": {},
   "source": [
    "Son ejemplos de identificadores válidos:\n",
    "\n",
    "```\n",
    "i\n",
    "x\n",
    "suma\n",
    "sumando1\n",
    "sumando2\n",
    "edad \n",
    "pais_de_nacimiento\n",
    "nombre \n",
    "area_circulo\n",
    "\n",
    "```"
   ]
  },
  {
   "cell_type": "markdown",
   "metadata": {},
   "source": [
    "## Tipos de datos escalares\n",
    "\n",
    "Los programas manipularán diferentes tipos de datos. Cada objeto tiene un tipo de datos asociado a el. Se tienen tipos de datos escalares que corresponden a: \n",
    "\n",
    "- `int` representa números enteros ejemplo: 5, -5\n",
    "- `float` representa números reales 3.27\n",
    "- `bool` representa valores booleanos `True` y `False`\n",
    "- `Nonetype` es especial y tiene un único valor `None`\n",
    "\n",
    "es posible usar type() para ver el tipo de dato de un objeto:"
   ]
  },
  {
   "cell_type": "code",
   "execution_count": 3,
   "metadata": {},
   "outputs": [
    {
     "data": {
      "text/plain": [
       "float"
      ]
     },
     "execution_count": 3,
     "metadata": {},
     "output_type": "execute_result"
    }
   ],
   "source": [
    "x = 5.6e12\n",
    "type(x)"
   ]
  },
  {
   "cell_type": "code",
   "execution_count": 4,
   "metadata": {},
   "outputs": [
    {
     "data": {
      "text/plain": [
       "int"
      ]
     },
     "execution_count": 4,
     "metadata": {},
     "output_type": "execute_result"
    }
   ],
   "source": [
    "type(5) "
   ]
  },
  {
   "cell_type": "markdown",
   "metadata": {},
   "source": [
    "## Operaciones aritméticas y lógicas\n",
    "\n",
    "- Suma: +\n",
    "- Resta: -\n",
    "- Multiplicación: *\n",
    "- División entera: //\n",
    "- División real: /\n",
    "- Residuo: %\n",
    "- Potencia: **\n",
    "- Asignación: =\n",
    "- Asignación con suma: +=\n",
    "- Asignación con resta: -=\n",
    "\n",
    "A continuación se muestran algunos ejemplos de operaciones básicas:"
   ]
  },
  {
   "cell_type": "code",
   "execution_count": 5,
   "metadata": {},
   "outputs": [
    {
     "name": "stdout",
     "output_type": "stream",
     "text": [
      "2.3333333333333335\n"
     ]
    }
   ],
   "source": [
    "#división que te va a dar como resultado un número real.\n",
    "y = 7/3\n",
    "print(y)\n"
   ]
  },
  {
   "cell_type": "code",
   "execution_count": 6,
   "metadata": {},
   "outputs": [
    {
     "name": "stdout",
     "output_type": "stream",
     "text": [
      "2\n"
     ]
    }
   ],
   "source": [
    "#División que te va a dar como resultado un número entero\n",
    "c = 7//3\n",
    "print(c)"
   ]
  },
  {
   "cell_type": "code",
   "execution_count": 7,
   "metadata": {},
   "outputs": [
    {
     "name": "stdout",
     "output_type": "stream",
     "text": [
      "29\n"
     ]
    }
   ],
   "source": [
    "y =  4 * 6\n",
    "z = 5\n",
    "y += z\n",
    "print(y)"
   ]
  },
  {
   "cell_type": "markdown",
   "metadata": {},
   "source": [
    "### Operadores lógicos y de Comparación:\n",
    "\n",
    "Python posee los siguientes operadores lógicos básicos:\n",
    "\n",
    "- ```and, or, not``` \n",
    "\n",
    "Y los siguientes operadores de comparación:\n",
    "\n",
    "- ```a == b```: retorna verdadero si los valores de a y b son iguales, falso en otro caso.\n",
    "- ```a != b ```: retorna verdadero si los valores son diferentes, falso en otro caso.\n",
    "- ```a >= b```: retorna verdadero si a es mayor o igual a b. \n",
    "- ```a > b```: retorna verdadero si a es mayor a b. \n",
    "- ```a <= b```: retorna verdadero si a es menor o igual a b.\n",
    "- ```a < b```: retorna verdadero si a es menor a b.\n",
    "\n",
    "A continuación algunos ejemplos:"
   ]
  },
  {
   "cell_type": "code",
   "execution_count": 8,
   "metadata": {},
   "outputs": [
    {
     "name": "stdout",
     "output_type": "stream",
     "text": [
      "False\n"
     ]
    }
   ],
   "source": [
    "a = 3\n",
    "b = 4\n",
    "\n",
    "print(a == b)"
   ]
  },
  {
   "cell_type": "code",
   "execution_count": 9,
   "metadata": {},
   "outputs": [
    {
     "name": "stdout",
     "output_type": "stream",
     "text": [
      "False\n"
     ]
    }
   ],
   "source": [
    "x = 3\n",
    "y = 5\n",
    "print(x > y)"
   ]
  },
  {
   "cell_type": "markdown",
   "metadata": {},
   "source": [
    "### Funciones y estructuras de control en python\n",
    "\n",
    "La definición del método que calcula el área de un rectángulo constituye un bloque de código (en python se llama suite) que inicia con la palabra def y termina en la línea 2 con la instrucción ```return l*a```. Python utiliza la indentación para definir suites. Una forma rápida de identificar una suite en python es porque inicia con ```:```. \n",
    "\n"
   ]
  },
  {
   "cell_type": "code",
   "execution_count": 10,
   "metadata": {},
   "outputs": [
    {
     "data": {
      "text/plain": [
       "15"
      ]
     },
     "execution_count": 10,
     "metadata": {},
     "output_type": "execute_result"
    }
   ],
   "source": [
    "def area_rectangulo(l, a):\n",
    "  return l*a #vemos que esto está definido dentro del método\n",
    "\n",
    "area_rectangulo(3,5)"
   ]
  },
  {
   "cell_type": "markdown",
   "metadata": {},
   "source": [
    "A parte de definir métodos, se utilizan los dos puntos ```:``` para definir las estructuras de control condicional ```if else elif``` y las estructuras de control cíclico ```for while```.\n"
   ]
  },
  {
   "cell_type": "markdown",
   "metadata": {},
   "source": [
    "### Estructuras de control condicional\n",
    "\n",
    "Es posible determinar que suite de código ejecutar especificando estructuras de control condicional. Por ejemplo para determinar si un número es par podríamos decir que un número par es aquel cuyo residuo entre 2 es igual a cero, de otro modo es impar.\n"
   ]
  },
  {
   "cell_type": "code",
   "execution_count": 11,
   "metadata": {},
   "outputs": [
    {
     "name": "stdin",
     "output_type": "stream",
     "text": [
      "digite un número:  4\n"
     ]
    },
    {
     "name": "stdout",
     "output_type": "stream",
     "text": [
      "4 es par\n"
     ]
    }
   ],
   "source": [
    "def es_par(num):\n",
    "  if num % 2 == 0:\n",
    "    print(num, 'es par')\n",
    "  else:\n",
    "    print(num, 'es impar')\n",
    "\n",
    "num = int(input('digite un número: '))\n",
    "es_par(num)"
   ]
  },
  {
   "cell_type": "markdown",
   "metadata": {},
   "source": [
    "Es posible tener más de dos casos en una estructura de control condicional, como veremos en el siguiente ejemplo: La empresa Tqm ofrece la siguiente promocion: por compras mayores a 10000 lleva un 10% de descuento. Por compras mayores a 20000 lleva un 20% de descuento. Dado el valor de la compra halle el valor a pagar y diga de cuanto fue el descuento."
   ]
  },
  {
   "cell_type": "code",
   "execution_count": 12,
   "metadata": {},
   "outputs": [
    {
     "name": "stdin",
     "output_type": "stream",
     "text": [
      "digite el valor total de su compra: 45555\n"
     ]
    },
    {
     "name": "stdout",
     "output_type": "stream",
     "text": [
      "valor a pagar 36444.0 y ahorró: 9111.0\n"
     ]
    }
   ],
   "source": [
    "def descuento(vc):\n",
    "  if vc > 10000 and vc <= 20000:\n",
    "    print(\"valor a pagar\", vc-vc*0.1, \"y ahorró:\" , vc*0.1)\n",
    "  elif vc > 20000:\n",
    "    print(\"valor a pagar\", vc-vc*0.2, \"y ahorró:\" , vc*0.2)\n",
    "  else:\n",
    "    print(\"usted compró muy poco y no tiene descuentos.\")\n",
    "  \n",
    "vc = int(input('digite el valor total de su compra:'))\n",
    "descuento(vc)"
   ]
  },
  {
   "cell_type": "markdown",
   "metadata": {},
   "source": [
    "### Estructuras de control cíclico y algunas estructuras de datos\n",
    "\n",
    "### El ciclo while \n",
    "\n",
    "El ciclo ```while``` permite ejecutar un bloque de instrucciones mientras que una expresión booleana dada se cumpla, es decir, mientras su evaluación dé como resultado verdadero. La expresión booleana se denomina condición de parada y siempre se evalúa antes de ejecutar el bloque de instrucciones. Si la condición no se cumple, el bloque no se ejecuta. Si la condición se cumple, el bloque se ejecuta, después de lo cual la instrucción vuelve a empezar, es decir, la condición se vuelve a evaluar.\n",
    "\n",
    "En el caso en que la condición se evalúe la primera vez como falsa, el bloque de instrucciones no será ejecutado, lo cual quiere decir que el número de repeticiones o iteraciones de este bloque será cero. Si la condición siempre evalúa a verdadero, la instrucción se ejecutará indefinidamente, es decir, un número infinito de veces.\n",
    "\n",
    "La estructura de un ciclo ```while``` se da en el siguiente fragmento de código:\n",
    "\n",
    "```\n",
    "<suite_prev>\n",
    "<inicia>\n",
    "while(<cond>):\n",
    "  <suite_while>\n",
    "  <actualiza>\n",
    "<suite_siguiente>\n",
    "\n",
    "```\n",
    "\n",
    "Donde: \n",
    "\n",
    "- El fragmento suite_prev es la suite instrucciones previas que han sido ejecutadas antes del ciclo.\n",
    "\n",
    "- El fragmento inicia es la suite de instrucciones donde se inicializan las variables que intervienen en la condición de parada.\n",
    "\n",
    "- El fragmento cond es la condición de parada que se evalúa cada vez que se inicia o se reinicia el ciclo.\n",
    "\n",
    "- El fragmento suite_while es el bloque de instrucciones principal del ciclo que se ejecuta mientras la condición se  cumpla.\n",
    "\n",
    "- El fragmento actualiza es el bloque que se utiliza para actualizar las variables que son utilizadas para evaluar la condición de parada cuando se intenta reiniciar el ciclo.\n",
    "\n",
    "- El fragmento suite_siguiente es el bloque de instrucciones que se  ejecutan después de terminar de ejecutar el ciclo.\n",
    "\n",
    "A continuación se muestra un ejemplo de funcionamiento del ciclo while. Se utilizarán métodos para introducir al lector en la programación modular.\n"
   ]
  },
  {
   "cell_type": "code",
   "execution_count": 13,
   "metadata": {},
   "outputs": [
    {
     "name": "stdout",
     "output_type": "stream",
     "text": [
      "2 , 25\n",
      "4 , 35\n",
      "8 , 45\n",
      "16 , 55\n",
      "32 , 65\n",
      "64 , 75\n",
      "the end.\n",
      "128 , 85\n",
      "esto es parte de la función\n",
      "Wall time: 1.98 ms\n"
     ]
    }
   ],
   "source": [
    "%%time \n",
    "#mide el tiempo de ejecución de una celda\n",
    "\n",
    "import time #es para usar sleep\n",
    "\n",
    "def ejemplo_while():\n",
    "  #sirve para determinar el tiempo de ejecución de un programa \n",
    "  i = 2 #inicializa a i en 2\n",
    "  j = 25 # inicializa a j en 25\n",
    "\n",
    "  while i < j: #mientras i sea menor a j\n",
    "      print(i, \",\", j) #va a imprimir los valores de i , j\n",
    "      #time.sleep(0.004) #función que interrumpe \n",
    "      i*=2 # i = i*2 como a i lo va multiplicando por 2 en cada paso se espera que supere a j en un punto\n",
    "      j+=10 # j = j + 10 se incrementa de 10 en 10\n",
    "  \n",
    "  print(\"the end.\") #esta es una instrucción que se ejecuta al terminar el ciclo while\n",
    "  print(i, \",\", j) #imprime los valores finales de i y de j\n",
    "  print(\"esto es parte de la función\")\n",
    "\n",
    "\n",
    "ejemplo_while() #aquí se llama el método\n"
   ]
  },
  {
   "cell_type": "markdown",
   "metadata": {},
   "source": [
    "### Tuplas\n",
    "\n",
    "Una tupla es una secuencia de elementos que puede almacenar datos heterogeneos tales como: float, strings, listas y diccionarios. Como los strings, las tuplas son inmutables.\n"
   ]
  },
  {
   "cell_type": "code",
   "execution_count": 14,
   "metadata": {},
   "outputs": [
    {
     "name": "stdout",
     "output_type": "stream",
     "text": [
      "(1, 2, 3, 4.6, 'hola', 'a')\n"
     ]
    }
   ],
   "source": [
    "tup = (1, 2, 3, 4.6, 'hola', 'a')\n",
    "print(tup)"
   ]
  },
  {
   "cell_type": "markdown",
   "metadata": {},
   "source": [
    "Se pueden recorrer los elementos de una tupla con for:"
   ]
  },
  {
   "cell_type": "code",
   "execution_count": 15,
   "metadata": {},
   "outputs": [
    {
     "name": "stdout",
     "output_type": "stream",
     "text": [
      "1 2 3 4.6 hola a "
     ]
    }
   ],
   "source": [
    "for dato in tup:\n",
    "    print(dato, end=\" \")"
   ]
  },
  {
   "cell_type": "markdown",
   "metadata": {},
   "source": [
    "Para acceder a un valor particular de una tupla se especifica su posición con corchetes ```[]```:"
   ]
  },
  {
   "cell_type": "code",
   "execution_count": 19,
   "metadata": {},
   "outputs": [],
   "source": [
    "avengers = (\"Ironman\", \"Spiderman\", \"Ant-man\", \"Hulk\", \"Thor\", \"The Wasp\")"
   ]
  },
  {
   "cell_type": "code",
   "execution_count": 20,
   "metadata": {},
   "outputs": [
    {
     "data": {
      "text/plain": [
       "'Ironman'"
      ]
     },
     "execution_count": 20,
     "metadata": {},
     "output_type": "execute_result"
    }
   ],
   "source": [
    "avengers[0]"
   ]
  },
  {
   "cell_type": "code",
   "execution_count": 21,
   "metadata": {},
   "outputs": [
    {
     "data": {
      "text/plain": [
       "'The Wasp'"
      ]
     },
     "execution_count": 21,
     "metadata": {},
     "output_type": "execute_result"
    }
   ],
   "source": [
    "avengers[-1]"
   ]
  },
  {
   "cell_type": "code",
   "execution_count": 22,
   "metadata": {},
   "outputs": [
    {
     "data": {
      "text/plain": [
       "('Spiderman', 'Ant-man')"
      ]
     },
     "execution_count": 22,
     "metadata": {},
     "output_type": "execute_result"
    }
   ],
   "source": [
    "avengers[1:3]"
   ]
  },
  {
   "cell_type": "code",
   "execution_count": 23,
   "metadata": {},
   "outputs": [
    {
     "data": {
      "text/plain": [
       "('The Wasp', 'Thor', 'Hulk', 'Ant-man', 'Spiderman', 'Ironman')"
      ]
     },
     "execution_count": 23,
     "metadata": {},
     "output_type": "execute_result"
    }
   ],
   "source": [
    "avengers[::-1]"
   ]
  },
  {
   "cell_type": "markdown",
   "metadata": {},
   "source": [
    "### Funciones de Tuplas "
   ]
  },
  {
   "cell_type": "markdown",
   "metadata": {},
   "source": [
    "Longitud de la tupla: "
   ]
  },
  {
   "cell_type": "code",
   "execution_count": 24,
   "metadata": {},
   "outputs": [
    {
     "data": {
      "text/plain": [
       "4"
      ]
     },
     "execution_count": 24,
     "metadata": {},
     "output_type": "execute_result"
    }
   ],
   "source": [
    "tup = (1,2,3,4)\n",
    "len(tup)"
   ]
  },
  {
   "cell_type": "markdown",
   "metadata": {},
   "source": [
    "Máximo elemento de una tupla:"
   ]
  },
  {
   "cell_type": "code",
   "execution_count": 25,
   "metadata": {},
   "outputs": [
    {
     "data": {
      "text/plain": [
       "7"
      ]
     },
     "execution_count": 25,
     "metadata": {},
     "output_type": "execute_result"
    }
   ],
   "source": [
    "t = (4,5,-1,6,7) \n",
    "max(t)"
   ]
  },
  {
   "cell_type": "markdown",
   "metadata": {},
   "source": [
    "Mínimo elemento de una tupla:"
   ]
  },
  {
   "cell_type": "code",
   "execution_count": 26,
   "metadata": {},
   "outputs": [
    {
     "data": {
      "text/plain": [
       "-1"
      ]
     },
     "execution_count": 26,
     "metadata": {},
     "output_type": "execute_result"
    }
   ],
   "source": [
    "min(t)"
   ]
  },
  {
   "cell_type": "markdown",
   "metadata": {},
   "source": [
    "### Listas \n",
    "\n",
    "Una lista es muy similar a la noción de un arreglo. En este sentido puede entenderse como una colección indexada de objetos. A cada elemento le corresponde una posición. Una lista puede almacenar objetos de diferente tipo en la misma estructura. Es posible también añadir, remover, o cambiar objetos. Esto quiere decir que las listas son mutables."
   ]
  },
  {
   "cell_type": "code",
   "execution_count": 27,
   "metadata": {},
   "outputs": [
    {
     "name": "stdout",
     "output_type": "stream",
     "text": [
      "['lunes', 'martes', 'miércoles', 'jueves', 'viernes', 'sábado']\n",
      "[32.0, 212.0, 0.0, 81.6, 100.0]\n"
     ]
    }
   ],
   "source": [
    "dias = ['lunes', 'martes', 'miércoles', 'jueves', 'viernes', 'sábado']\n",
    "print(dias)\n",
    "\n",
    "temps = [ 32.0, 212.0, 0.0, 81.6, 100.0]\n",
    "print(temps)"
   ]
  },
  {
   "cell_type": "markdown",
   "metadata": {},
   "source": [
    "Para saber si un elemento está en una lista se puede usar el operador in:"
   ]
  },
  {
   "cell_type": "code",
   "execution_count": 28,
   "metadata": {},
   "outputs": [
    {
     "name": "stdout",
     "output_type": "stream",
     "text": [
      "Si\n"
     ]
    }
   ],
   "source": [
    "dias = ['lunes', 'martes', 'miércoles', 'jueves', 'viernes', 'sábado']\n",
    "if('lunes' in dias):\n",
    "    print('Si')"
   ]
  },
  {
   "cell_type": "markdown",
   "metadata": {},
   "source": [
    "Una lista puede almacenar distintos tipos de dato:"
   ]
  },
  {
   "cell_type": "code",
   "execution_count": 30,
   "metadata": {},
   "outputs": [
    {
     "name": "stdout",
     "output_type": "stream",
     "text": [
      "dato Toyota tipo: <class 'str'>\n",
      "dato RAV4 tipo: <class 'str'>\n",
      "dato 2.2 tipo: <class 'float'>\n",
      "dato 60807 tipo: <class 'int'>\n"
     ]
    }
   ],
   "source": [
    "car_details = ['Toyota', 'RAV4', 2.2, 60807]\n",
    "\n",
    "for detail in car_details:\n",
    "    print(\"dato \" + str(detail) + \" tipo: \" + str(type(detail)))"
   ]
  },
  {
   "cell_type": "markdown",
   "metadata": {},
   "source": [
    "Si se desea tener la posición de un elemento y el elemento se puede usar enumerate:\n"
   ]
  },
  {
   "cell_type": "code",
   "execution_count": 82,
   "metadata": {},
   "outputs": [
    {
     "name": "stdout",
     "output_type": "stream",
     "text": [
      "1: cat\n",
      "2: dog\n",
      "3: monkey\n"
     ]
    }
   ],
   "source": [
    "animals = ['cat', 'dog', 'monkey']\n",
    "for idx, animal in enumerate(animals):\n",
    "    print(f\"{idx + 1}: {animal}\")\n",
    "# Prints \"#1: cat\", \"#2: dog\", \"#3: monkey\", each on its own line"
   ]
  },
  {
   "cell_type": "markdown",
   "metadata": {},
   "source": [
    "Es posible tener una lista de listas:"
   ]
  },
  {
   "cell_type": "code",
   "execution_count": 31,
   "metadata": {},
   "outputs": [
    {
     "name": "stdout",
     "output_type": "stream",
     "text": [
      "[[1, 2, 3], ['a', 'b', 'c']]\n",
      "[1, 2, 3]\n",
      "['a', 'b', 'c']\n",
      "b\n"
     ]
    }
   ],
   "source": [
    "mi_lista = [[1,2,3], ['a', 'b', 'c']]\n",
    "\n",
    "print(mi_lista)\n",
    "\n",
    "print(mi_lista[0])\n",
    "print(mi_lista[1])\n",
    "print(mi_lista[1][1])"
   ]
  },
  {
   "cell_type": "markdown",
   "metadata": {},
   "source": [
    "Para crear la lista y añadir elementos de forma dinámica se puede hacer lo siguiente:"
   ]
  },
  {
   "cell_type": "code",
   "execution_count": 32,
   "metadata": {},
   "outputs": [
    {
     "data": {
      "text/plain": [
       "0"
      ]
     },
     "execution_count": 32,
     "metadata": {},
     "output_type": "execute_result"
    }
   ],
   "source": [
    "found=[] #se crea la lista vacía\n",
    "len(found) #este método calcula la longitud de la lista\n"
   ]
  },
  {
   "cell_type": "code",
   "execution_count": 33,
   "metadata": {},
   "outputs": [
    {
     "name": "stdout",
     "output_type": "stream",
     "text": [
      "['a', 'e', 'i', 'o', 'u'] 5\n"
     ]
    }
   ],
   "source": [
    "found.append('a')\n",
    "found.append('e')\n",
    "found.append('i')\n",
    "found.append('o')\n",
    "found.append('u')\n",
    "print(found, len(found))"
   ]
  },
  {
   "cell_type": "markdown",
   "metadata": {},
   "source": [
    "Es posible crear una lista a partir de otra. Esto se conoce como listas por comprensión. El siguiente código:"
   ]
  },
  {
   "cell_type": "code",
   "execution_count": 83,
   "metadata": {},
   "outputs": [
    {
     "name": "stdout",
     "output_type": "stream",
     "text": [
      "[0, 1, 4, 9, 16]\n"
     ]
    }
   ],
   "source": [
    "nums = [0, 1, 2, 3, 4]\n",
    "squares = []\n",
    "for x in nums:\n",
    "    squares.append(x ** 2)\n",
    "print(squares)   # Prints [0, 1, 4, 9, 16]"
   ]
  },
  {
   "cell_type": "markdown",
   "metadata": {},
   "source": [
    "Es equivalente a:"
   ]
  },
  {
   "cell_type": "code",
   "execution_count": 85,
   "metadata": {},
   "outputs": [
    {
     "name": "stdout",
     "output_type": "stream",
     "text": [
      "[0, 1, 4, 9, 16]\n"
     ]
    }
   ],
   "source": [
    "nums = [0, 1, 2, 3, 4]\n",
    "squares = [x ** 2 for x in nums]\n",
    "print(squares)   # Prints [0, 1, 4, 9, 16]"
   ]
  },
  {
   "cell_type": "markdown",
   "metadata": {},
   "source": [
    "Tambien es posible remover la ocurrencia de un valor específico en la lista. Remove toma como argumento el objeto que se va a eliminar, remueve el elemento de la lista y reduce en uno su tamaño. Si el elemento no se encuentra en la lista se lanza un error."
   ]
  },
  {
   "cell_type": "code",
   "execution_count": 34,
   "metadata": {},
   "outputs": [
    {
     "name": "stdout",
     "output_type": "stream",
     "text": [
      "['a', 'e', 'o', 'u']\n",
      "4\n"
     ]
    }
   ],
   "source": [
    "found.remove('i')\n",
    "print(found)\n",
    "print(len(found))"
   ]
  },
  {
   "cell_type": "markdown",
   "metadata": {},
   "source": [
    "En el caso en el que se requiera eliminar un elemento de una posición específica de la lista. El método pop recibe como parámetro la posición del elemento a remover. Las posiciones en las listas empiezan en cero. Si no se especifican parámetros, se remueve el último elemento de la lista."
   ]
  },
  {
   "cell_type": "code",
   "execution_count": 41,
   "metadata": {},
   "outputs": [
    {
     "name": "stdout",
     "output_type": "stream",
     "text": [
      "['Jaime', 'Johan', 'Monica', 'María', 'Mabel']\n",
      "['Jaime', 'Monica', 'María', 'Mabel']\n",
      "Mabel ha sido eliminada de la lista.\n",
      "['Jaime', 'Monica', 'María']\n"
     ]
    }
   ],
   "source": [
    "nombres = ['Jaime', 'Johan', 'Monica', 'María', 'Mabel']\n",
    "print(nombres)\n",
    "nombres.pop(1) #remueve a Johan\n",
    "print(nombres)\n",
    "nombre_borrado = nombres.pop() # remueve a Mabel\n",
    "print(nombre_borrado + \" ha sido eliminada de la lista.\")\n",
    "print(nombres)"
   ]
  },
  {
   "cell_type": "markdown",
   "metadata": {},
   "source": [
    "Es posible agregar una lista al final de otra lista. Para esto se puede utilizar el método extend."
   ]
  },
  {
   "cell_type": "code",
   "execution_count": 40,
   "metadata": {},
   "outputs": [
    {
     "name": "stdout",
     "output_type": "stream",
     "text": [
      "['Jaime', 'Johan', 'Monica', 'María', 'Mabel', 'Barry', 'John', 'Guttag']\n"
     ]
    }
   ],
   "source": [
    "nombres = ['Jaime', 'Johan', 'Monica', 'María', 'Mabel']\n",
    "otros_nombres = ['Barry', 'John', 'Guttag']\n",
    "\n",
    "nombres.extend(otros_nombres)\n",
    "print(nombres)"
   ]
  },
  {
   "cell_type": "markdown",
   "metadata": {},
   "source": [
    "Para agregar elementos en una posición específica de una lista se puede utilizar el método insert:"
   ]
  },
  {
   "cell_type": "code",
   "execution_count": 39,
   "metadata": {},
   "outputs": [
    {
     "name": "stdout",
     "output_type": "stream",
     "text": [
      "['Guttag', 'Jaime', 'Peter', 7891247812, 'Johan', 'Monica', 'María', 'Mabel']\n"
     ]
    }
   ],
   "source": [
    "nombres = ['Jaime', 'Johan', 'Monica', 'María', 'Mabel']\n",
    "nombres.insert(0, 'Guttag') #posición valor\n",
    "nombres.insert(2, 'Peter') #list_name.insert(posición,valor)\n",
    "nombres.insert(len(nombres)//2, 7891247812)\n",
    "print(nombres)"
   ]
  },
  {
   "cell_type": "code",
   "execution_count": null,
   "metadata": {},
   "outputs": [],
   "source": []
  },
  {
   "cell_type": "markdown",
   "metadata": {},
   "source": [
    "Como pedir ayuda sobre un método específico:"
   ]
  },
  {
   "cell_type": "code",
   "execution_count": 43,
   "metadata": {},
   "outputs": [
    {
     "name": "stdout",
     "output_type": "stream",
     "text": [
      "Help on method_descriptor:\n",
      "\n",
      "append(self, object, /)\n",
      "    Append object to the end of the list.\n",
      "\n"
     ]
    }
   ],
   "source": [
    "help(list.append)"
   ]
  },
  {
   "cell_type": "code",
   "execution_count": 45,
   "metadata": {},
   "outputs": [
    {
     "data": {
      "text/plain": [
       "\u001b[1;31mInit signature:\u001b[0m \u001b[0mlist\u001b[0m\u001b[1;33m(\u001b[0m\u001b[0miterable\u001b[0m\u001b[1;33m=\u001b[0m\u001b[1;33m(\u001b[0m\u001b[1;33m)\u001b[0m\u001b[1;33m,\u001b[0m \u001b[1;33m/\u001b[0m\u001b[1;33m)\u001b[0m\u001b[1;33m\u001b[0m\u001b[1;33m\u001b[0m\u001b[0m\n",
       "\u001b[1;31mDocstring:\u001b[0m     \n",
       "Built-in mutable sequence.\n",
       "\n",
       "If no argument is given, the constructor creates a new empty list.\n",
       "The argument must be an iterable if specified.\n",
       "\u001b[1;31mType:\u001b[0m           type\n",
       "\u001b[1;31mSubclasses:\u001b[0m     _HashedSeq, StackSummary, SList, _ImmutableLineList, FormattedText, NodeList, _ExplodedList, Stack, _Accumulator, _ymd, ...\n"
      ]
     },
     "metadata": {},
     "output_type": "display_data"
    }
   ],
   "source": [
    "??list"
   ]
  },
  {
   "cell_type": "markdown",
   "metadata": {},
   "source": [
    "### Manejando Conjuntos en Python\n",
    "\n",
    "Los conjuntos en python pueden ser muy útiles para eliminar datos duplicados. Si se tiene una lista de nombres que puede estar duplicada, basta con convertirla en conjunto para eliminar los datos duplicados. Esta estructura también está optimizada para buscar datos pues las listas realizan una búsqueda secuencial. Los datos no se almacenan necesariamente en orden."
   ]
  },
  {
   "cell_type": "code",
   "execution_count": 46,
   "metadata": {},
   "outputs": [
    {
     "name": "stdout",
     "output_type": "stream",
     "text": [
      "{'o', 'e', 'a', 'i', 'u'}\n"
     ]
    }
   ],
   "source": [
    "vocales = {'a', 'e', 'i', 'o', 'u', 'a', 'a', 'o', 'e'}\n",
    "print(vocales)"
   ]
  },
  {
   "cell_type": "markdown",
   "metadata": {},
   "source": [
    "Es posible ordenar un conjunto así:"
   ]
  },
  {
   "cell_type": "code",
   "execution_count": 47,
   "metadata": {},
   "outputs": [
    {
     "data": {
      "text/plain": [
       "['a', 'e', 'i', 'o', 'u']"
      ]
     },
     "execution_count": 47,
     "metadata": {},
     "output_type": "execute_result"
    }
   ],
   "source": [
    "['a', 'e', 'i', 'o', 'u']"
   ]
  },
  {
   "cell_type": "markdown",
   "metadata": {},
   "source": [
    "Se pueden crear conjuntos a partir de listas o tuplas:"
   ]
  },
  {
   "cell_type": "code",
   "execution_count": 48,
   "metadata": {},
   "outputs": [
    {
     "name": "stdout",
     "output_type": "stream",
     "text": [
      "{'o', 'e', 'a', 'i', 'u'}\n"
     ]
    }
   ],
   "source": [
    "l_vocals = ['a', 'e', 'i', 'o', 'u', 'i']\n",
    "vocalsl = set(l_vocals)\n",
    "print(vocalsl)"
   ]
  },
  {
   "cell_type": "markdown",
   "metadata": {},
   "source": [
    "Es posible unir dos conjuntos:"
   ]
  },
  {
   "cell_type": "code",
   "execution_count": 49,
   "metadata": {},
   "outputs": [
    {
     "name": "stdout",
     "output_type": "stream",
     "text": [
      "{'o', 'a', 'i', 'l', 't', 'r', 'g', 's', 'u', 'd', 'n', 'x', 'c', 'm', 'e'}\n"
     ]
    }
   ],
   "source": [
    "seta = set('murcielago')\n",
    "setb = set('externocleidomastoideo')\n",
    "setc = seta.union(setb)\n",
    "print(setc)"
   ]
  },
  {
   "cell_type": "markdown",
   "metadata": {},
   "source": [
    "Se puede calcular la diferencia entre dos conjuntos. Permite examinar los datos que están en un conjunto de palabras que no están en otro:"
   ]
  },
  {
   "cell_type": "code",
   "execution_count": 50,
   "metadata": {},
   "outputs": [],
   "source": [
    "stop_wordsA = {'el', 'un', 'la', 'los'}\n",
    "stop_wordsB = {'un', 'una', 'unos', 'el'}"
   ]
  },
  {
   "cell_type": "markdown",
   "metadata": {},
   "source": [
    "Para determinar los elementos que están en stop_wordsA que no están en stop_wordsB basta con:"
   ]
  },
  {
   "cell_type": "code",
   "execution_count": 51,
   "metadata": {},
   "outputs": [
    {
     "data": {
      "text/plain": [
       "{'la', 'los'}"
      ]
     },
     "execution_count": 51,
     "metadata": {},
     "output_type": "execute_result"
    }
   ],
   "source": [
    "stop_wordsA - stop_wordsB"
   ]
  },
  {
   "cell_type": "markdown",
   "metadata": {},
   "source": [
    "Para determinar los elementos que tienen en común los conjuntos de stop_words (intersección):"
   ]
  },
  {
   "cell_type": "code",
   "execution_count": 52,
   "metadata": {},
   "outputs": [
    {
     "data": {
      "text/plain": [
       "{'el', 'un'}"
      ]
     },
     "execution_count": 52,
     "metadata": {},
     "output_type": "execute_result"
    }
   ],
   "source": [
    "stop_wordsB & stop_wordsA"
   ]
  },
  {
   "cell_type": "markdown",
   "metadata": {},
   "source": [
    "La diferencia simétrica consiste en encontrar elementos que están en la unión de dos conjuntos pero no en la intersección"
   ]
  },
  {
   "cell_type": "code",
   "execution_count": 53,
   "metadata": {},
   "outputs": [
    {
     "data": {
      "text/plain": [
       "{'la', 'los', 'una', 'unos'}"
      ]
     },
     "execution_count": 53,
     "metadata": {},
     "output_type": "execute_result"
    }
   ],
   "source": [
    "stop_wordsB ^ stop_wordsA"
   ]
  },
  {
   "cell_type": "markdown",
   "metadata": {},
   "source": [
    "### Diccionarios "
   ]
  },
  {
   "cell_type": "markdown",
   "metadata": {},
   "source": [
    "Así como en una lista los valores están indexados por su posición, en un diccionario los valores van a estar indexados por sus llaves. La sintaxis de un diccionario es:\n",
    "\n",
    "```nombre_dict = { key1: value1, key2: value2}"
   ]
  },
  {
   "cell_type": "code",
   "execution_count": 88,
   "metadata": {},
   "outputs": [],
   "source": [
    "port = { 22: 'SSH', 23: 'Telnet', 80: 'HTTP', 3306: 'MySQL'}"
   ]
  },
  {
   "cell_type": "markdown",
   "metadata": {},
   "source": [
    "Cada pareja llave valor es considerada un ítem. La llave y el valor están separados por ```:```, cada ítem está separado por comas ```,``` y los items están rodeados por llaves ```{``` ```}```. Un diccionario vacío puede crearse así: ```{}```. Las características clave de un diccionario son:\n",
    "\n",
    "- La llave de un ítem no puede ser cambiada\n",
    "- Un string, int, o float puede ser usado como llave.\n",
    "- Una tupla que no contenga listas puede ser usada como llave.\n",
    "- Las llaves son únicas.\n",
    "- Los valores pueden ser cualquier tipo de dato.\n",
    "- Los valores pueden estar repetidos.\n",
    "- Los valores pueden ser cambiados.\n",
    "- Un diccionario es una colección desordenada (el orden en el que se ingresen los datos es independiente de la forma en la que se almacenan en la estructura de datos)."
   ]
  },
  {
   "cell_type": "markdown",
   "metadata": {},
   "source": [
    "Para acceder a un valor en un diccionario es necesario tener la llave."
   ]
  },
  {
   "cell_type": "code",
   "execution_count": 91,
   "metadata": {},
   "outputs": [],
   "source": [
    "port = { 22: 'SSH', 23: 'Telnet', 80: 'HTTP', 3306: 'MySQL'}"
   ]
  },
  {
   "cell_type": "code",
   "execution_count": 90,
   "metadata": {},
   "outputs": [
    {
     "name": "stdout",
     "output_type": "stream",
     "text": [
      "SSH\n"
     ]
    }
   ],
   "source": [
    "protocol = port[22]\n",
    "print(protocol)"
   ]
  },
  {
   "cell_type": "markdown",
   "metadata": {},
   "source": [
    "Si la llave no está se produce un KeyError:"
   ]
  },
  {
   "cell_type": "code",
   "execution_count": 92,
   "metadata": {},
   "outputs": [
    {
     "ename": "KeyError",
     "evalue": "443",
     "output_type": "error",
     "traceback": [
      "\u001b[1;31m---------------------------------------------------------------------------\u001b[0m",
      "\u001b[1;31mKeyError\u001b[0m                                  Traceback (most recent call last)",
      "\u001b[1;32m<ipython-input-92-d3e4f6e42da5>\u001b[0m in \u001b[0;36m<module>\u001b[1;34m\u001b[0m\n\u001b[1;32m----> 1\u001b[1;33m \u001b[0mport\u001b[0m\u001b[1;33m[\u001b[0m\u001b[1;36m443\u001b[0m\u001b[1;33m]\u001b[0m\u001b[1;33m\u001b[0m\u001b[1;33m\u001b[0m\u001b[0m\n\u001b[0m",
      "\u001b[1;31mKeyError\u001b[0m: 443"
     ]
    }
   ],
   "source": [
    "port[443]"
   ]
  },
  {
   "cell_type": "markdown",
   "metadata": {},
   "source": [
    "Con del es posible eliminar el diccionario entero o los ítems de un diccionario. Si se desea eliminar un ítem se puede utilizar la siguiente sintaxis:"
   ]
  },
  {
   "cell_type": "code",
   "execution_count": 93,
   "metadata": {},
   "outputs": [
    {
     "name": "stdout",
     "output_type": "stream",
     "text": [
      "{22: 'SSH', 23: 'Telnet', 80: 'HTTP', 3306: 'MySQL'}\n",
      "{22: 'SSH', 80: 'HTTP', 3306: 'MySQL'}\n"
     ]
    }
   ],
   "source": [
    "port = { 22: 'SSH', 23: 'Telnet', 80: 'HTTP', 3306: 'MySQL'}\n",
    "print(port)\n",
    "del port[23]\n",
    "print(port)"
   ]
  },
  {
   "cell_type": "markdown",
   "metadata": {},
   "source": [
    "Para añadir un valor se realiza la asignación:\n",
    "\n",
    "```dict[new_key] = new_val```"
   ]
  },
  {
   "cell_type": "code",
   "execution_count": 94,
   "metadata": {},
   "outputs": [
    {
     "name": "stdout",
     "output_type": "stream",
     "text": [
      "{80: 'HTTP', 23: 'SMTP', 443: 'HTTPS'}\n",
      "{80: 'HTTP', 23: 'SMTP', 443: 'HTTPS', 110: 'POP'}\n"
     ]
    }
   ],
   "source": [
    "port = {80: \"HTTP\", 23 : \"SMTP\", 443 : \"HTTPS\"}\n",
    "print(port)\n",
    "port[110] = 'POP'\n",
    "print(port)"
   ]
  },
  {
   "cell_type": "markdown",
   "metadata": {},
   "source": [
    "Es posible convertir una lista de listas o una lista de tuplas en un diccionario usando dict."
   ]
  },
  {
   "cell_type": "code",
   "execution_count": 96,
   "metadata": {},
   "outputs": [
    {
     "name": "stdout",
     "output_type": "stream",
     "text": [
      "{80: 'http', 20: 'ftp', 23: 'telnet', 443: 'https', 53: 'DNS'}\n"
     ]
    }
   ],
   "source": [
    "port = [[80,\"http\"],[20,\"ftp\"],[23,\"telnet\"],[443,\"https\"],[53,\"DNS\"]]\n",
    "d_port = dict(port)\n",
    "print(d_port)"
   ]
  },
  {
   "cell_type": "markdown",
   "metadata": {},
   "source": [
    "Para validar la existencia de la llave en un diccionario se puede utilizar el operador in:"
   ]
  },
  {
   "cell_type": "code",
   "execution_count": 97,
   "metadata": {},
   "outputs": [
    {
     "name": "stdout",
     "output_type": "stream",
     "text": [
      "True\n",
      "False\n"
     ]
    }
   ],
   "source": [
    "print(80 in d_port)\n",
    "print(222 in d_port)"
   ]
  },
  {
   "cell_type": "markdown",
   "metadata": {},
   "source": [
    "Para obtener una lista de las llaves se puede hacer lo siguiente:"
   ]
  },
  {
   "cell_type": "code",
   "execution_count": 98,
   "metadata": {},
   "outputs": [
    {
     "name": "stdout",
     "output_type": "stream",
     "text": [
      "['a', 'b', 'c']\n"
     ]
    }
   ],
   "source": [
    "dict1 = {'a':1, 'b':2, 'c':3}\n",
    "print(list(dict1.keys()))"
   ]
  },
  {
   "cell_type": "markdown",
   "metadata": {},
   "source": [
    "## Referencias\n",
    "\n",
    "\n",
    "Armendáriz, D (2019). Introducción a Jupyter Notebook. Visitado el 2 de Junio de 2020. https://www.youtube.com/watch?v=orr063XGPPE\n",
    "\n",
    "Barry, P. (2016). Head First Python: A Brain-Friendly Guide. \" O'Reilly Media, Inc.\".\n",
    "\n",
    "Guttag, John. Introduction to Computation and Programming Using Python: With Application to Understanding Data Second Edition. MIT Press, 2016. ISBN: 9780262529624.\n",
    "\n",
    "Tutorial oficial de python 3, disponible en: https://docs.python.org/3/tutorial/interpreter.html\n",
    "\n",
    "Rodríguez, A (2020). Curso de Programación en Python. https://github.com/arleserp/cursopython\n",
    "\n",
    "Johnson, J. Python Numpy Tutorial (with Jupyter and Colab) https://cs231n.github.io/python-numpy-tutorial/\n"
   ]
  }
 ],
 "metadata": {
  "kernelspec": {
   "display_name": "Python 3",
   "language": "python",
   "name": "python3"
  },
  "language_info": {
   "codemirror_mode": {
    "name": "ipython",
    "version": 3
   },
   "file_extension": ".py",
   "mimetype": "text/x-python",
   "name": "python",
   "nbconvert_exporter": "python",
   "pygments_lexer": "ipython3",
   "version": "3.7.3"
  }
 },
 "nbformat": 4,
 "nbformat_minor": 4
}
