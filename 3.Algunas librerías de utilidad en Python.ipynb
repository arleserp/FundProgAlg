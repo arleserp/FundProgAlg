{
 "cells": [
  {
   "cell_type": "markdown",
   "metadata": {},
   "source": [
    "# 15. Algunas librerías de utilidad en Python\n"
   ]
  },
  {
   "cell_type": "markdown",
   "metadata": {},
   "source": [
    "## 1. Numpy"
   ]
  },
  {
   "cell_type": "markdown",
   "metadata": {},
   "source": [
    "Es una de las librerías más conocidas para realizar computación científica en python. Provee una libería de alto rendimiento para la manipulación de arreglos en varias dimensiones. Y ofrece herramientas para trabajar en arreglos.\n"
   ]
  },
  {
   "cell_type": "markdown",
   "metadata": {},
   "source": [
    "### 1.1 Arrays en numpy\n",
    "\n",
    "Un arreglo en numpy es una retícula de valores del mismo tipo indexadas por enteros no negativos. El número de dimensiones ```rank``` y la forma ```shape``` del arreglo es una tupla de enteros que da el tamaño del arreglo para cada dimensión.\n",
    "\n",
    "Se pueden crear arreglos de numpy desde listas de python y acceder a los elementos con el operador subscript ```[]```\n"
   ]
  },
  {
   "cell_type": "code",
   "execution_count": 68,
   "metadata": {},
   "outputs": [
    {
     "name": "stdout",
     "output_type": "stream",
     "text": [
      "<class 'numpy.ndarray'>\n",
      "[1 2 3 4]\n",
      "(4,)\n",
      "1 2 3\n",
      "[-4  2  3  4]\n",
      "(2, 5)\n",
      "[[1 2 3 5 6]\n",
      " [4 5 6 7 8]]\n",
      "[[1590    2    3    5    6]\n",
      " [   4    5    6    7    8]]\n",
      "1590 2 4\n"
     ]
    }
   ],
   "source": [
    "import numpy as np\n",
    "\n",
    "a = np.array(list(range(1,5)))   # Create a rank 1 array\n",
    "\n",
    "print(type(a))            # Prints \"<class 'numpy.ndarray'>\"\n",
    "print(a)\n",
    "print(a.shape)            # Prints \"(4,)\" porque es una dimensión de tamaño 4\n",
    "print(a[0], a[1], a[2])   \n",
    "a[0] = -4                  \n",
    "print(a)                  \n",
    "\n",
    "b = np.array([[1,2,3,5,6],[4,5,6,7,8]])    # Create a rank 2 array\n",
    "print(b.shape)  \n",
    "print(b)\n",
    "b[0,0] = 1590\n",
    "print(b)\n",
    "print(b[0, 0], b[0, 1], b[1, 0])   "
   ]
  },
  {
   "cell_type": "markdown",
   "metadata": {},
   "source": [
    "Es posible crear arreglos de diferente tipo de forma muy rápida:"
   ]
  },
  {
   "cell_type": "code",
   "execution_count": 53,
   "metadata": {},
   "outputs": [
    {
     "name": "stdout",
     "output_type": "stream",
     "text": [
      "(2, 3, 4)\n",
      "[[[0. 0. 0. 0.]\n",
      "  [0. 0. 0. 0.]\n",
      "  [0. 0. 0. 0.]]\n",
      "\n",
      " [[0. 0. 0. 0.]\n",
      "  [0. 0. 0. 0.]\n",
      "  [0. 0. 0. 0.]]]\n",
      "---------\n",
      "(2, 3)\n",
      "[[1. 1. 1.]\n",
      " [1. 1. 1.]]\n",
      "---------\n",
      "(3,)\n",
      "[7 7 7]\n",
      "---------\n",
      "(3, 3)\n",
      "[[1. 0. 0.]\n",
      " [0. 1. 0.]\n",
      " [0. 0. 1.]]\n",
      "---------\n",
      "(2, 3)\n",
      "[[0.53531825 0.33951771 0.60249827]\n",
      " [0.57445358 0.61974161 0.74373077]]\n"
     ]
    }
   ],
   "source": [
    "import numpy as np\n",
    "\n",
    "a = np.zeros((2,3,4))   # Crea un arreglo de ceros de 3 dimensiones \n",
    "print(a.shape)        \n",
    "print(a)  \n",
    "print('---------')\n",
    "\n",
    "b = np.ones((2,3))    # Crea un arreglo de 1\n",
    "print(b.shape)\n",
    "print(b)\n",
    "print('---------')\n",
    "\n",
    "c = np.full((3), 7)  # Crea un arreglo de rango 1 con contenido 7\n",
    "print(c.shape)\n",
    "print(c)\n",
    "print('---------')\n",
    "        \n",
    "d = np.eye(3)         # Crea un arreglo identidad de 3 x 3\n",
    "print(d.shape)\n",
    "print(d)              \n",
    "print('---------')\n",
    "\n",
    "e = np.random.random((2,3))  # Crea un arreglo de rango 3 con valores al azar\n",
    "print(e.shape)\n",
    "print(e)                    \n",
    "                            "
   ]
  },
  {
   "cell_type": "code",
   "execution_count": null,
   "metadata": {},
   "outputs": [],
   "source": []
  },
  {
   "cell_type": "markdown",
   "metadata": {},
   "source": [
    "El operador subscript funciona en numpy"
   ]
  },
  {
   "cell_type": "code",
   "execution_count": 71,
   "metadata": {},
   "outputs": [
    {
     "name": "stdout",
     "output_type": "stream",
     "text": [
      "(3, 4)\n",
      "[[ 1  2  3  4]\n",
      " [ 5  6  7  8]\n",
      " [ 9 10 11 12]]\n",
      "[[2 3]\n",
      " [6 7]]\n",
      "------------------------\n",
      "[[-11   3]\n",
      " [  6   7]]\n",
      "[[  1 -11   3   4]\n",
      " [  5   6   7   8]\n",
      " [  9  10  11  12]]\n",
      "-11\n"
     ]
    }
   ],
   "source": [
    "import numpy as np\n",
    "\n",
    "# Create the following rank 2 array with shape (3, 4)\n",
    "a = np.array([[1,2,3,4], [5,6,7,8], [9,10,11,12]])\n",
    "print(a.shape)\n",
    "print(a)\n",
    "b = a[:2, 1:3]\n",
    "print(b)\n",
    "\n",
    "print('------------------------')\n",
    "\n",
    "# modificar una porción del array b cambia el contenido de a\n",
    "b[0, 0] = -11     # b[0, 0] is the same piece of data as a[0, 1]\n",
    "print(b)\n",
    "print(a)\n",
    "print(a[0, 1])   # Prints \"-11\"\n"
   ]
  },
  {
   "cell_type": "markdown",
   "metadata": {},
   "source": [
    "Se puede mezclar indexado entero con indexado por partes. Esto retornará un arreglo de menor dimensionalidad que el arreglo original."
   ]
  },
  {
   "cell_type": "code",
   "execution_count": 66,
   "metadata": {},
   "outputs": [
    {
     "name": "stdout",
     "output_type": "stream",
     "text": [
      "[[ 1  2  3  4]\n",
      " [ 5  6  7  8]\n",
      " [ 9 10 11 12]]\n",
      "(3, 4)\n",
      "-----------------\n",
      "[5 6 7 8] (4,)\n",
      "[[5 6 7 8]] (1, 4)\n",
      "[ 2  6 10] (3,)\n",
      "[[ 2]\n",
      " [ 6]\n",
      " [10]] (3, 1)\n"
     ]
    }
   ],
   "source": [
    "import numpy as np\n",
    "\n",
    "a = np.array([[1,2,3,4], [5,6,7,8], [9,10,11,12]])\n",
    "\n",
    "print(a)\n",
    "print(a.shape)\n",
    "print('-----------------')\n",
    "# Two ways of accessing the data in the middle row of the array.\n",
    "# Mixing integer indexing with slices yields an array of lower rank,\n",
    "# while using only slices yields an array of the same rank as the\n",
    "# original array:\n",
    "row_r1 = a[1, :]    # Rank 1 view of the second row of a\n",
    "row_r2 = a[1:2, :]  # Rank 2 view of the second row of a\n",
    "print(row_r1, row_r1.shape)  # Prints \"[5 6 7 8] (4,)\"\n",
    "print(row_r2, row_r2.shape)  # Prints \"[[5 6 7 8]] (1, 4)\"\n",
    "\n",
    "# We can make the same distinction when accessing columns of an array:\n",
    "col_r1 = a[:, 1]\n",
    "col_r2 = a[:, 1:2]\n",
    "print(col_r1, col_r1.shape)  # Prints \"[ 2  6 10] (3,)\"\n",
    "print(col_r2, col_r2.shape)  # Prints \"[[ 2]\n",
    "                             #          [ 6]\n",
    "                             #          [10]] (3, 1)\""
   ]
  },
  {
   "cell_type": "markdown",
   "metadata": {},
   "source": [
    "Indexamiento entero de arreglos: Permite construir arreglos arbitrarios utilizando datos de otro arreglo."
   ]
  },
  {
   "cell_type": "code",
   "execution_count": 79,
   "metadata": {},
   "outputs": [
    {
     "name": "stdout",
     "output_type": "stream",
     "text": [
      "[1 4 5]\n",
      "[1 4 5]\n",
      "[2 2]\n",
      "[2 2]\n"
     ]
    }
   ],
   "source": [
    "import numpy as np\n",
    "\n",
    "a = np.array([[1,2], [3, 4], [5, 6]])\n",
    "\n",
    "print(a[[0, 1, 2], [0, 1, 0]])  \n",
    "print(np.array([a[0, 0], a[1, 1], a[2, 0]]))\n",
    "\n",
    "\n",
    "print(a[[0, 0], [1, 1]])  \n",
    "print(np.array([a[0, 1], a[0, 1]])) "
   ]
  },
  {
   "cell_type": "markdown",
   "metadata": {},
   "source": [
    "Indexamiento booleano: Permite selecionar elementos que cumplan con una cierta condición."
   ]
  },
  {
   "cell_type": "code",
   "execution_count": 71,
   "metadata": {},
   "outputs": [
    {
     "name": "stdout",
     "output_type": "stream",
     "text": [
      "[[False False]\n",
      " [ True  True]\n",
      " [ True  True]]\n",
      "[3 4 5 6]\n",
      "[3 4 5 6]\n"
     ]
    }
   ],
   "source": [
    "import numpy as np\n",
    "\n",
    "a = np.array([[1,2], [3, 4], [5, 6]])\n",
    "\n",
    "bool_idx = (a > 2)   \n",
    "print(bool_idx)      \n",
    "\n",
    "print(a[bool_idx])  #array de elementos mayores a 2\n",
    "\n",
    "#una expresión equivalente\n",
    "print(a[a > 2])     "
   ]
  },
  {
   "cell_type": "markdown",
   "metadata": {},
   "source": [
    "Numpy como python determina el tipo de dato basado en el valor. Sin embargo dicho tipo también puede especificarse:"
   ]
  },
  {
   "cell_type": "code",
   "execution_count": 76,
   "metadata": {},
   "outputs": [
    {
     "name": "stdout",
     "output_type": "stream",
     "text": [
      "int32\n",
      "float64\n",
      "int64\n"
     ]
    }
   ],
   "source": [
    "import numpy as np\n",
    "\n",
    "x = np.array([5, -4])   \n",
    "print(x.dtype)         \n",
    "\n",
    "x = np.array([1.0, 2.0])   \n",
    "print(x.dtype)          \n",
    "\n",
    "x = np.array([5, -4], dtype=np.int64)   \n",
    "print(x.dtype)                         "
   ]
  },
  {
   "cell_type": "markdown",
   "metadata": {},
   "source": [
    "## 1.2. Operaciones elementwise\n"
   ]
  },
  {
   "cell_type": "markdown",
   "metadata": {},
   "source": [
    "Son operaciones elemento a elemento:"
   ]
  },
  {
   "cell_type": "code",
   "execution_count": 87,
   "metadata": {},
   "outputs": [
    {
     "name": "stdout",
     "output_type": "stream",
     "text": [
      "Suma:\n",
      "[[ 6.  8.  4.]\n",
      " [10. 12.  0.]]\n",
      "-----\n",
      "[[ 6.  8.  4.]\n",
      " [10. 12.  0.]]\n",
      "Resta:\n",
      "[[-4. -4.  6.]\n",
      " [-4. -4. 12.]]\n",
      "-----\n",
      "[[-4. -4.  6.]\n",
      " [-4. -4. 12.]]\n",
      "Multiplicación:\n",
      "[[  5.  12.  -5.]\n",
      " [ 21.  32. -36.]]\n",
      "-----\n",
      "[[  5.  12.  -5.]\n",
      " [ 21.  32. -36.]]\n",
      "División:\n",
      "[[ 0.2         0.33333333 -5.        ]\n",
      " [ 0.42857143  0.5        -1.        ]]\n",
      "-----\n",
      "[[ 0.2         0.33333333 -5.        ]\n",
      " [ 0.42857143  0.5        -1.        ]]\n",
      "raiz cuadrada:\n",
      "[[1.         1.41421356 2.23606798]\n",
      " [1.73205081 2.         2.44948974]]\n"
     ]
    }
   ],
   "source": [
    "import numpy as np\n",
    "\n",
    "x = np.array([[1,2,5],[3,4,6]], dtype=np.float64)\n",
    "y = np.array([[5,6,-1],[7,8,-6]], dtype=np.float64)\n",
    "\n",
    "print('Suma:')\n",
    "print(x + y)\n",
    "print('-----')\n",
    "print(np.add(x, y))\n",
    "\n",
    "print('Resta:')\n",
    "print(x - y)\n",
    "print('-----')\n",
    "print(np.subtract(x, y))\n",
    "\n",
    "print('Multiplicación:')\n",
    "print(x * y)\n",
    "print('-----')\n",
    "print(np.multiply(x, y))\n",
    "\n",
    "print(\"División:\")\n",
    "print(x / y)\n",
    "print('-----')\n",
    "print(np.divide(x, y))\n",
    "\n",
    "print(\"raiz cuadrada:\")\n",
    "print(np.sqrt(x))"
   ]
  },
  {
   "cell_type": "markdown",
   "metadata": {},
   "source": [
    "Otras operaciones de interés:"
   ]
  },
  {
   "cell_type": "code",
   "execution_count": 73,
   "metadata": {},
   "outputs": [
    {
     "name": "stdout",
     "output_type": "stream",
     "text": [
      "(2, 3)\n",
      "(3,)\n",
      "x:\n",
      " [[1 2 5]\n",
      " [3 4 6]]\n",
      "Transpose:\n",
      " [8 6 4]\n",
      "Product [40 72]\n"
     ]
    }
   ],
   "source": [
    "x = np.array([[1,2,5],[3,4,6]])\n",
    "y = np.array([8,6,4])\n",
    "\n",
    "print(x.shape)\n",
    "print(y.shape)\n",
    "\n",
    "print('x:\\n', x)\n",
    "print('Transpose:\\n', y.T)\n",
    "\n",
    "p = x @ y.T\n",
    "print('Product', p)\n"
   ]
  },
  {
   "cell_type": "markdown",
   "metadata": {},
   "source": [
    "## 1.3 np.linspace"
   ]
  },
  {
   "cell_type": "markdown",
   "metadata": {},
   "source": [
    "Retorna desde el número start hasta el número stop num datos:\n",
    "\n",
    "```numpy.linspace(start, stop, num = 50, endpoint = True, retstep = False, dtype = None) \n",
    "   ``` "
   ]
  },
  {
   "cell_type": "code",
   "execution_count": 78,
   "metadata": {},
   "outputs": [
    {
     "data": {
      "text/plain": [
       "array([2.        , 2.07142857, 2.14285714, 2.21428571, 2.28571429,\n",
       "       2.35714286, 2.42857143, 2.5       , 2.57142857, 2.64285714,\n",
       "       2.71428571, 2.78571429, 2.85714286, 2.92857143, 3.        ])"
      ]
     },
     "execution_count": 78,
     "metadata": {},
     "output_type": "execute_result"
    }
   ],
   "source": [
    "import numpy as np\n",
    "\n",
    "np.linspace(2, 3, num = 15, endpoint = True, retstep = False, dtype = None)"
   ]
  },
  {
   "cell_type": "markdown",
   "metadata": {},
   "source": [
    "[video de cosas interesantes con numpy](https://www.youtube.com/watch?v=xECXZ3tyONo&t=398s)"
   ]
  },
  {
   "cell_type": "markdown",
   "metadata": {},
   "source": [
    "## 2. Matplotlib"
   ]
  },
  {
   "cell_type": "markdown",
   "metadata": {},
   "source": [
    "Matplotlib es una librería para crear visualizaciones estáticas o animadas en python.\n",
    "\n",
    "Es posible graficar en un área con uno o más ejes (en términos de coordenadas x-y, theta-r, coordenadas polares, x-y-z, etc. \n",
    "\n",
    "La forma más simple de crear una figura con ejes es usar con pyplot."
   ]
  },
  {
   "cell_type": "markdown",
   "metadata": {},
   "source": [
    "Componentes de una figura: https://matplotlib.org/tutorials/introductory/usage.html#sphx-glr-tutorials-introductory-usage-py"
   ]
  },
  {
   "cell_type": "code",
   "execution_count": 80,
   "metadata": {},
   "outputs": [
    {
     "data": {
      "text/plain": [
       "[<matplotlib.lines.Line2D at 0x249d6da2dd8>]"
      ]
     },
     "execution_count": 80,
     "metadata": {},
     "output_type": "execute_result"
    },
    {
     "data": {
      "image/png": "[encoded data removed]",
      "text/plain": [
       "<Figure size 432x288 with 1 Axes>"
      ]
     },
     "metadata": {
      "needs_background": "light"
     },
     "output_type": "display_data"
    }
   ],
   "source": [
    "import matplotlib.pyplot as plt\n",
    "\n",
    "plt.plot([1, 2, 3, 4], [1, 4, 2, 3])  # Matplotlib plot."
   ]
  },
  {
   "cell_type": "code",
   "execution_count": 95,
   "metadata": {},
   "outputs": [
    {
     "data": {
      "text/plain": [
       "<matplotlib.legend.Legend at 0x249d72f70b8>"
      ]
     },
     "execution_count": 95,
     "metadata": {},
     "output_type": "execute_result"
    },
    {
     "data": {
      "image/png": "[encoded data removed]",
      "text/plain": [
       "<Figure size 432x288 with 1 Axes>"
      ]
     },
     "metadata": {
      "needs_background": "light"
     },
     "output_type": "display_data"
    }
   ],
   "source": [
    "import numpy as np\n",
    "\n",
    "x = np.linspace(0, 2, 50)\n",
    "#print(x)\n",
    "# Note that even in the OO-style, we use `.pyplot.figure` to create the figure.\n",
    "fig, ax = plt.subplots()  # Create a figure and an axes.\n",
    "ax.plot(x, x, label='linear')  # Plot some data on the axes.\n",
    "ax.plot(x, x**2, label='quadratic')  # Plot more data on the axes...\n",
    "ax.plot(x, x**3, label='cubic')  # ... and some more.\n",
    "ax.set_xlabel('x label')  # Add an x-label to the axes.\n",
    "ax.set_ylabel('y label')  # Add a y-label to the axes.\n",
    "ax.set_title(\"Simple Plot\")  # Add a title to the axes.\n",
    "ax.legend()  # Add a legend."
   ]
  },
  {
   "cell_type": "markdown",
   "metadata": {},
   "source": [
    "Se pueden tener variables categóricas:"
   ]
  },
  {
   "cell_type": "code",
   "execution_count": 100,
   "metadata": {},
   "outputs": [
    {
     "data": {
      "image/png": "[encoded data removed]",
      "text/plain": [
       "<Figure size 648x216 with 3 Axes>"
      ]
     },
     "metadata": {
      "needs_background": "light"
     },
     "output_type": "display_data"
    }
   ],
   "source": [
    "names = ['group_a', 'group_b', 'group_c']\n",
    "values = [3.4, 50.3, 23]\n",
    "\n",
    "plt.figure(figsize=(9, 3))\n",
    "\n",
    "plt.subplot(131)\n",
    "plt.bar(names, values)\n",
    "plt.subplot(132)\n",
    "plt.scatter(names, values)\n",
    "plt.subplot(133)\n",
    "plt.plot(names, values)\n",
    "plt.suptitle('Categorical Plotting')\n",
    "plt.show()"
   ]
  },
  {
   "cell_type": "markdown",
   "metadata": {},
   "source": [
    "## 3. Pandas\n",
    "\n",
    "Permite manipular datos de alto nivel. Es una librería fácil de usar para análisis y manipulación de datos. Está construida sobre Numpy.\n",
    "\n"
   ]
  },
  {
   "cell_type": "code",
   "execution_count": 1,
   "metadata": {},
   "outputs": [
    {
     "name": "stdout",
     "output_type": "stream",
     "text": [
      "        country    capital    area  population\n",
      "0        Brazil   Brasilia   8.516      200.40\n",
      "1        Russia     Moscow  17.100      143.50\n",
      "2         India  New Dehli   3.286     1252.00\n",
      "3         China    Beijing   9.597     1357.00\n",
      "4  South Africa   Pretoria   1.221       52.98\n",
      "5      Colombia     Bogotá   1.142       49.65\n"
     ]
    }
   ],
   "source": [
    "dictc = {\"country\": [\"Brazil\", \"Russia\", \"India\", \"China\", \"South Africa\", \"Colombia\"],\n",
    "       \"capital\": [\"Brasilia\", \"Moscow\", \"New Dehli\", \"Beijing\", \"Pretoria\", \"Bogotá\"],\n",
    "       \"area\": [8.516, 17.10, 3.286, 9.597, 1.221, 1.142],\n",
    "       \"population\": [200.4, 143.5, 1252, 1357, 52.98, 49.65] }\n",
    "\n",
    "import pandas as pd\n",
    "\n",
    "brics = pd.DataFrame(dictc)\n",
    "print(brics)"
   ]
  },
  {
   "cell_type": "code",
   "execution_count": 1,
   "metadata": {},
   "outputs": [
    {
     "data": {
      "text/plain": [
       "'\\nfrom google.colab import files\\nuploaded = files.upload()  #Upload files/SalesJan2009.csv\\n'"
      ]
     },
     "execution_count": 1,
     "metadata": {},
     "output_type": "execute_result"
    }
   ],
   "source": [
    "# to use in case of Google Colab\n",
    "'''\n",
    "from google.colab import files\n",
    "uploaded = files.upload()  #Upload files/SalesJan2009.csv\n",
    "'''"
   ]
  },
  {
   "cell_type": "code",
   "execution_count": 2,
   "metadata": {},
   "outputs": [
    {
     "name": "stdout",
     "output_type": "stream",
     "text": [
      "[('United States', 462), ('United Kingdom', 100), ('Canada', 76)]\n",
      "[('Visa', 521), ('Mastercard', 277), ('Amex', 110)]\n"
     ]
    }
   ],
   "source": [
    "# Import pandas as pd\n",
    "import pandas as pd\n",
    "from collections import Counter\n",
    "import datetime\n",
    "\n",
    "ventasdf = pd.read_csv('files/SalesJan2009.csv') #in case of colab only SalesJan2009.csv\n",
    "\n",
    "\n",
    "#print(ventas)\n",
    "cp = Counter(ventasdf['Country'])\n",
    "print(cp.most_common(3))\n",
    "\n",
    "cv = Counter(ventasdf['Payment_Type'])\n",
    "print(cv.most_common(3))\n",
    "\n",
    "#print(df)"
   ]
  },
  {
   "cell_type": "code",
   "execution_count": 3,
   "metadata": {},
   "outputs": [
    {
     "data": {
      "text/html": [
       "<div>\n",
       "<style scoped>\n",
       "    .dataframe tbody tr th:only-of-type {\n",
       "        vertical-align: middle;\n",
       "    }\n",
       "\n",
       "    .dataframe tbody tr th {\n",
       "        vertical-align: top;\n",
       "    }\n",
       "\n",
       "    .dataframe thead th {\n",
       "        text-align: right;\n",
       "    }\n",
       "</style>\n",
       "<table border=\"1\" class=\"dataframe\">\n",
       "  <thead>\n",
       "    <tr style=\"text-align: right;\">\n",
       "      <th></th>\n",
       "      <th>Transaction_date</th>\n",
       "      <th>Product</th>\n",
       "      <th>Price</th>\n",
       "      <th>Payment_Type</th>\n",
       "      <th>Name</th>\n",
       "      <th>City</th>\n",
       "      <th>State</th>\n",
       "      <th>Country</th>\n",
       "      <th>Account_Created</th>\n",
       "      <th>Last_Login</th>\n",
       "      <th>Latitude</th>\n",
       "      <th>Longitude</th>\n",
       "    </tr>\n",
       "  </thead>\n",
       "  <tbody>\n",
       "    <tr>\n",
       "      <td>0</td>\n",
       "      <td>1/2/2009 6:17</td>\n",
       "      <td>Product1</td>\n",
       "      <td>1200</td>\n",
       "      <td>Mastercard</td>\n",
       "      <td>carolina</td>\n",
       "      <td>Basildon</td>\n",
       "      <td>England</td>\n",
       "      <td>United Kingdom</td>\n",
       "      <td>1/2/2009 6:00</td>\n",
       "      <td>1/2/2009 6:08</td>\n",
       "      <td>51.50000</td>\n",
       "      <td>-1.116667</td>\n",
       "    </tr>\n",
       "    <tr>\n",
       "      <td>1</td>\n",
       "      <td>1/2/2009 4:53</td>\n",
       "      <td>Product1</td>\n",
       "      <td>1200</td>\n",
       "      <td>Visa</td>\n",
       "      <td>Betina</td>\n",
       "      <td>Parkville</td>\n",
       "      <td>MO</td>\n",
       "      <td>United States</td>\n",
       "      <td>1/2/2009 4:42</td>\n",
       "      <td>1/2/2009 7:49</td>\n",
       "      <td>39.19500</td>\n",
       "      <td>-94.681940</td>\n",
       "    </tr>\n",
       "    <tr>\n",
       "      <td>2</td>\n",
       "      <td>1/2/2009 13:08</td>\n",
       "      <td>Product1</td>\n",
       "      <td>1200</td>\n",
       "      <td>Mastercard</td>\n",
       "      <td>Federica e Andrea</td>\n",
       "      <td>Astoria</td>\n",
       "      <td>OR</td>\n",
       "      <td>United States</td>\n",
       "      <td>1/1/2009 16:21</td>\n",
       "      <td>1/3/2009 12:32</td>\n",
       "      <td>46.18806</td>\n",
       "      <td>-123.830000</td>\n",
       "    </tr>\n",
       "  </tbody>\n",
       "</table>\n",
       "</div>"
      ],
      "text/plain": [
       "  Transaction_date   Product  Price Payment_Type               Name  \\\n",
       "0    1/2/2009 6:17  Product1   1200   Mastercard           carolina   \n",
       "1    1/2/2009 4:53  Product1   1200         Visa             Betina   \n",
       "2   1/2/2009 13:08  Product1   1200   Mastercard  Federica e Andrea   \n",
       "\n",
       "                           City    State         Country Account_Created  \\\n",
       "0                      Basildon  England  United Kingdom   1/2/2009 6:00   \n",
       "1  Parkville                          MO   United States   1/2/2009 4:42   \n",
       "2  Astoria                            OR   United States  1/1/2009 16:21   \n",
       "\n",
       "       Last_Login  Latitude   Longitude  \n",
       "0   1/2/2009 6:08  51.50000   -1.116667  \n",
       "1   1/2/2009 7:49  39.19500  -94.681940  \n",
       "2  1/3/2009 12:32  46.18806 -123.830000  "
      ]
     },
     "execution_count": 3,
     "metadata": {},
     "output_type": "execute_result"
    }
   ],
   "source": [
    "ventasdf.head(3)"
   ]
  },
  {
   "cell_type": "code",
   "execution_count": 4,
   "metadata": {},
   "outputs": [
    {
     "data": {
      "text/plain": [
       "<Figure size 1200x300 with 2 Axes>"
      ]
     },
     "metadata": {},
     "output_type": "display_data"
    }
   ],
   "source": [
    "import numpy as np\n",
    "import matplotlib.pyplot as plt\n",
    "\n",
    "paises = [elem[0] for elem in cp.most_common(4)]\n",
    "ventas = [elem[1] for elem in cp.most_common(4)]\n",
    "\n",
    "mpago = [elem[0] for elem in cv.most_common(4)]\n",
    "cantidad = [elem[1] for elem in cv.most_common(4)]\n",
    "\n",
    "plt.figure(figsize=(12, 3))\n",
    "\n",
    "plt.subplot(121)\n",
    "plt.bar(paises, ventas, color=['r', 'g', 'b', 'y'])\n",
    "plt.title('Ventas por País')\n",
    "\n",
    "plt.subplot(122)\n",
    "plt.bar(mpago, cantidad)\n",
    "plt.title('Ventas por Medio de Pago')\n",
    "\n",
    "plt.suptitle('Reporte de Ventas')\n",
    "plt.show()"
   ]
  },
  {
   "cell_type": "code",
   "execution_count": 5,
   "metadata": {
    "scrolled": false
   },
   "outputs": [
    {
     "data": {
      "text/plain": [
       "<matplotlib.axes._subplots.AxesSubplot at 0x1f2d6c06e80>"
      ]
     },
     "execution_count": 5,
     "metadata": {},
     "output_type": "execute_result"
    },
    {
     "data": {
      "image/png": "[encoded data removed]",
      "text/plain": [
       "<Figure size 432x288 with 1 Axes>"
      ]
     },
     "metadata": {
      "needs_background": "light"
     },
     "output_type": "display_data"
    }
   ],
   "source": [
    "import matplotlib.pyplot as plt\n",
    "ventasdf.groupby('State')['Product'].count().sort_values(ascending=False)[:3].plot(kind='bar')"
   ]
  },
  {
   "cell_type": "code",
   "execution_count": 6,
   "metadata": {},
   "outputs": [
    {
     "data": {
      "image/png": "[encoded data removed]",
      "text/plain": [
       "<Figure size 432x288 with 1 Axes>"
      ]
     },
     "metadata": {
      "needs_background": "light"
     },
     "output_type": "display_data"
    }
   ],
   "source": [
    "import pandas as pd\n",
    "import datetime\n",
    "\n",
    "#Reporte por fecha\n",
    "ventasdf['Transaction_date'] = pd.to_datetime(ventasdf['Transaction_date'])\n",
    "\n",
    "df = (ventasdf['Transaction_date']\n",
    "       .dt.floor('d')\n",
    "       .value_counts()\n",
    "       .rename_axis('date')\n",
    "       .reset_index(name='num ventas'))\n",
    "\n",
    "ax = df.plot(x='date',y='num ventas',color='green',title='Ventas por fecha' )\n",
    "plt.show()"
   ]
  },
  {
   "cell_type": "markdown",
   "metadata": {},
   "source": [
    "## 4. NLTK, scikit-learn\n",
    "\n",
    "NLTK es una plataforma para realizar programas que trabajen con lenguaje humano.\n",
    "\n",
    "Scikit learn es una plataforma con herramientas para análisis de datos, reutilizable en varios contextos y basada en NumPy, SciPy y matplotlib.\n",
    "\n",
    "A continuación un ejemplo de chatbot basado en:  https://medium.com/analytics-vidhya/building-a-simple-chatbot-in-python-using-nltk-7c8c8215ac6e, https://www.geeksforgeeks.org/removing-stop-words-nltk-python/ y http://josearcosaneas.github.io/python/r/procesamiento/lenguaje/2017/01/02/procesamiento-lenguaje-natural-0.html "
   ]
  },
  {
   "cell_type": "markdown",
   "metadata": {},
   "source": [
    "## 4.1 Carga de archivos"
   ]
  },
  {
   "cell_type": "code",
   "execution_count": 3,
   "metadata": {},
   "outputs": [],
   "source": [
    "import nltk\n",
    "import numpy as np\n",
    "import random\n",
    "import string #used to process python strings"
   ]
  },
  {
   "cell_type": "code",
   "execution_count": null,
   "metadata": {},
   "outputs": [],
   "source": [
    "# to use in case of Google Colab\n",
    "'''\n",
    "from google.colab import files\n",
    "uploaded = files.upload()  #Upload files/alternancia.txt or another text file\n",
    "\n",
    "'''"
   ]
  },
  {
   "cell_type": "code",
   "execution_count": 4,
   "metadata": {},
   "outputs": [
    {
     "name": "stderr",
     "output_type": "stream",
     "text": [
      "[nltk_data] Downloading package punkt to\n",
      "[nltk_data]     C:\\Users\\Arles\\AppData\\Roaming\\nltk_data...\n",
      "[nltk_data]   Package punkt is already up-to-date!\n",
      "[nltk_data] Downloading package wordnet to\n",
      "[nltk_data]     C:\\Users\\Arles\\AppData\\Roaming\\nltk_data...\n",
      "[nltk_data]   Package wordnet is already up-to-date!\n"
     ]
    }
   ],
   "source": [
    "with open('files/alternancia.txt','r', encoding='utf-8') as f:  #if colab is used only alternancia.txt\n",
    "    raw=f.read()\n",
    "    raw=raw.lower() # converts to lowercase\n",
    "\n",
    "nltk.download('punkt') # first-time use only\n",
    "nltk.download('wordnet') # first-time use only\n",
    "\n",
    "sent_tokens = nltk.sent_tokenize(raw)# converts to list of sentences \n",
    "word_tokens = nltk.word_tokenize(raw)# converts to list of words"
   ]
  },
  {
   "cell_type": "markdown",
   "metadata": {},
   "source": [
    "Ejemplo de sentencias:"
   ]
  },
  {
   "cell_type": "code",
   "execution_count": 5,
   "metadata": {},
   "outputs": [
    {
     "data": {
      "text/plain": [
       "['en el próximo periodo académico 2020-2 habrá dos modalidades para el ofrecimiento del semestre académico: tomar todas las clases en forma remota y tomar las clases con el modelo de alternancia que implicará algunas actividades presenciales en el campus.',\n",
       " 'en esta segunda modalidad se debe tener en cuenta que no todas las asignaturas tendrán presencialidad; es decir, habrá asignaturas 100% con sesiones sincrónicas remotas.']"
      ]
     },
     "execution_count": 5,
     "metadata": {},
     "output_type": "execute_result"
    }
   ],
   "source": [
    "sent_tokens[:2]"
   ]
  },
  {
   "cell_type": "markdown",
   "metadata": {},
   "source": [
    "Ejemplos de las palabras:"
   ]
  },
  {
   "cell_type": "code",
   "execution_count": 6,
   "metadata": {},
   "outputs": [
    {
     "data": {
      "text/plain": [
       "['2020-2', 'habrá', 'dos', 'modalidades', 'para']"
      ]
     },
     "execution_count": 6,
     "metadata": {},
     "output_type": "execute_result"
    }
   ],
   "source": [
    "word_tokens[5:10]"
   ]
  },
  {
   "cell_type": "markdown",
   "metadata": {},
   "source": [
    "## 4.2 Preprocesamiento"
   ]
  },
  {
   "cell_type": "code",
   "execution_count": 7,
   "metadata": {},
   "outputs": [
    {
     "name": "stderr",
     "output_type": "stream",
     "text": [
      "[nltk_data] Downloading package stopwords to\n",
      "[nltk_data]     C:\\Users\\Arles\\AppData\\Roaming\\nltk_data...\n",
      "[nltk_data]   Package stopwords is already up-to-date!\n"
     ]
    }
   ],
   "source": [
    "import nltk\n",
    "\n",
    "nltk.download('stopwords')\n",
    "from nltk import wordpunct_tokenize\n",
    "from nltk.corpus import stopwords\n",
    "#import nltk\n",
    "#from nltk.stem.porter import PorterStemmer\n",
    "#from nltk.stem.Snowball import SnowballStemmer\n",
    "\n",
    "stopw = [w.encode('utf-8') for w in stopwords.words('spanish')]\n",
    "punc_lit = [u'.', u'[', ']', u',', u';', u'', u')', u'),', u' ', u'(']\n",
    "stopw.extend(punc_lit)"
   ]
  },
  {
   "cell_type": "code",
   "execution_count": 8,
   "metadata": {},
   "outputs": [],
   "source": [
    "#stopw[:10]"
   ]
  },
  {
   "cell_type": "code",
   "execution_count": 9,
   "metadata": {},
   "outputs": [],
   "source": [
    "from nltk.stem import SnowballStemmer\n",
    "\n",
    "#print (SnowballStemmer.languages)\n",
    " \n",
    "stemmer_spanish = SnowballStemmer('spanish')\n",
    "\n",
    "def LemTokens(tokens):\n",
    "    return [stemmer_spanish.stem(token) for token in tokens if token not in stopw]\n",
    "\n",
    "remove_punct_dict = dict((ord(punct), None) for punct in string.punctuation)\n",
    "\n",
    "def LemNormalize(text):\n",
    "    return LemTokens(nltk.word_tokenize(text.lower().translate(remove_punct_dict)))"
   ]
  },
  {
   "cell_type": "markdown",
   "metadata": {},
   "source": [
    "## 4.3 Emparejamiento de palabras clave:\n",
    "\n",
    "Se definen saludos y despedidas para el bot. ELIZA (un chatbot popular utiliza un emparejamiento sencillo al azar para saludar)."
   ]
  },
  {
   "cell_type": "code",
   "execution_count": 10,
   "metadata": {},
   "outputs": [],
   "source": [
    "GREETING_INPUTS = (\"hola\", \"que más!\", \"cordial saludo\", \"hey!\")\n",
    "\n",
    "GREETING_RESPONSES = [\"hola\", \"hey\", \"hola que hace!\", \"buenas las tenga\", \"a la orden?\", \"Es un gusto, pregunte pues!\"]\n",
    "\n",
    "def greeting(sentence):\n",
    "    for word in sentence.split():\n",
    "        if word.lower() in GREETING_INPUTS:\n",
    "            return random.choice(GREETING_RESPONSES)"
   ]
  },
  {
   "cell_type": "markdown",
   "metadata": {},
   "source": [
    "A continuación ya se muestra el motor del chatbot que está basado en el conteo de palabras para retornar la frase más parecida a la que el usuario digita:"
   ]
  },
  {
   "cell_type": "code",
   "execution_count": 11,
   "metadata": {},
   "outputs": [
    {
     "name": "stdout",
     "output_type": "stream",
     "text": [
      "ROBO: Soy un chatbot. Espero resolver todas sus preguntas sobre el modelo de alternancia de la konrad, para salir escriba chao\n",
      "You:La cafeteria va a estar abierta?\n",
      "\u001b[34mROBO: \u001b[0m\u001b[34mde hecho, ningún espacio de la institución estará habilitado para estas actividades.\u001b[0m\n",
      "You:y la biblioteca?\n",
      "\u001b[34mROBO: \u001b[0m\u001b[34mestarán activos todos los recursos electrónicos de biblioteca.\u001b[0m\n",
      "You:los estudiantes podemos tomar solo clases virtuales?\n",
      "\u001b[34mROBO: \u001b[0m\u001b[34msolo los estudiantes que hayan realizado su registro previo podrán asistir a las sesiones presenciales.\u001b[0m\n",
      "You:chai\n",
      "\u001b[34mROBO: \u001b[0m\u001b[34mQue pena no le entiendo nada... por favor pregunte otra cosa\u001b[0m\n",
      "You:chao\n",
      "\u001b[34mROBO: Nos vemos!\u001b[0m\n"
     ]
    }
   ],
   "source": [
    "from sklearn.feature_extraction.text import TfidfVectorizer\n",
    "from sklearn.metrics.pairwise import cosine_similarity\n",
    "\n",
    "from termcolor import colored\n",
    "\n",
    "def response(user_response):\n",
    "    robo_response=''\n",
    "    sent_tokens.append(user_response)    \n",
    "    TfidfVec = TfidfVectorizer(tokenizer=LemNormalize) #, stop_words='english')\n",
    "    tfidf = TfidfVec.fit_transform(sent_tokens)\n",
    "    vals = cosine_similarity(tfidf[-1], tfidf)\n",
    "    idx=vals.argsort()[0][-2]\n",
    "    flat = vals.flatten()\n",
    "    flat.sort()\n",
    "    req_tfidf = flat[-2]    \n",
    "    if(req_tfidf==0):\n",
    "        robo_response=robo_response+\"Que pena no le entiendo nada... por favor pregunte otra cosa\"\n",
    "        return robo_response\n",
    "    else:\n",
    "        robo_response = robo_response+sent_tokens[idx]\n",
    "        return robo_response\n",
    "\n",
    "def main():\n",
    "    flag=True\n",
    "    print(\"ROBO: Soy un chatbot. Espero resolver todas sus preguntas sobre el modelo de alternancia de la konrad, para salir escriba chao\")\n",
    "    while(flag==True):\n",
    "        user_response = input(\"You:\")\n",
    "        user_response=user_response.lower()\n",
    "        if(user_response!='chao'):\n",
    "            if(user_response=='gracias' or user_response=='Gracias!' ):\n",
    "                flag=False\n",
    "                print(\"ROBO: De nada..\")\n",
    "            else:\n",
    "                if(greeting(user_response)!=None):\n",
    "                    print(\"ROBO: \"+greeting(user_response))\n",
    "                else:\n",
    "                    print(colored(\"ROBO: \", 'blue'),end=\"\")\n",
    "                    print(colored(response(user_response), 'blue'))\n",
    "                    sent_tokens.remove(user_response)\n",
    "        else:\n",
    "            flag=False\n",
    "            print(colored(\"ROBO: Nos vemos!\", 'blue'))\n",
    "\n",
    "main()"
   ]
  },
  {
   "cell_type": "markdown",
   "metadata": {},
   "source": [
    "# Referencias\n",
    "- https://cs231n.github.io/python-numpy-tutorial/\n",
    "- https://matplotlib.org/Matplotlib.pdf\n",
    "- https://pandas.pydata.org/\n",
    "- https://www.learnpython.org/es/Pandas%20Basics\n",
    "- https://medium.com/analytics-vidhya/building-a-simple-chatbot-in-python-using-nltk-7c8c8215ac6e\n",
    "- https://www.geeksforgeeks.org/removing-stop-words-nltk-python/\n",
    "- http://josearcosaneas.github.io/python/r/procesamiento/lenguaje/2017/01/02/procesamiento-lenguaje-natural-0.html"
   ]
  }
 ],
 "metadata": {
  "kernelspec": {
   "display_name": "Python 3",
   "language": "python",
   "name": "python3"
  },
  "language_info": {
   "codemirror_mode": {
    "name": "ipython",
    "version": 3
   },
   "file_extension": ".py",
   "mimetype": "text/x-python",
   "name": "python",
   "nbconvert_exporter": "python",
   "pygments_lexer": "ipython3",
   "version": "3.7.3"
  }
 },
 "nbformat": 4,
 "nbformat_minor": 2
}
